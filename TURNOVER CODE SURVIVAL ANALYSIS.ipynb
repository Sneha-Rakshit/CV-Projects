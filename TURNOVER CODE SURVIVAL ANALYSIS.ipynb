{
 "cells": [
  {
   "cell_type": "code",
   "execution_count": null,
   "metadata": {
    "_cell_guid": "b1076dfc-b9ad-4769-8c92-a6c4dae69d19",
    "_uuid": "8f2839f25d086af736a60e9eeb907d3b93b6e0e5",
    "execution": {
     "iopub.execute_input": "2023-09-19T20:27:53.063308Z",
     "iopub.status.busy": "2023-09-19T20:27:53.061957Z",
     "iopub.status.idle": "2023-09-19T20:27:55.901045Z",
     "shell.execute_reply": "2023-09-19T20:27:55.900103Z",
     "shell.execute_reply.started": "2023-09-19T20:27:53.063256Z"
    }
   },
   "outputs": [],
   "source": [
    "import numpy as np \n",
    "import pandas as pd\n",
    "import matplotlib.pyplot as plt\n",
    "import seaborn as sns\n",
    "\n",
    "# Pre processing\n",
    "from sklearn.preprocessing   import StandardScaler, MinMaxScaler, LabelEncoder\n",
    "from sklearn.model_selection import train_test_split\n",
    "\n",
    "# Models\n",
    "from sklearn.linear_model import LogisticRegression\n",
    "from sklearn.tree         import DecisionTreeClassifier\n",
    "from sklearn.neighbors    import KNeighborsClassifier\n",
    "from sklearn.svm          import SVC\n",
    "from sklearn.ensemble     import RandomForestClassifier\n",
    "from sklearn.ensemble     import AdaBoostClassifier\n",
    "\n",
    "# Metrics\n",
    "from sklearn import metrics\n",
    "\n",
    "sns.set_theme(style=\"whitegrid\")"
   ]
  },
  {
   "cell_type": "code",
   "execution_count": null,
   "metadata": {
    "execution": {
     "iopub.execute_input": "2023-09-19T20:27:55.903607Z",
     "iopub.status.busy": "2023-09-19T20:27:55.902787Z",
     "iopub.status.idle": "2023-09-19T20:27:55.932725Z",
     "shell.execute_reply": "2023-09-19T20:27:55.931773Z",
     "shell.execute_reply.started": "2023-09-19T20:27:55.903572Z"
    }
   },
   "outputs": [],
   "source": [
    "turnover = pd.read_csv('../input/employee-turnover/turnover.csv', encoding = 'ISO-8859-1')"
   ]
  },
  {
   "cell_type": "code",
   "execution_count": null,
   "metadata": {
    "execution": {
     "iopub.execute_input": "2023-09-19T20:27:55.935028Z",
     "iopub.status.busy": "2023-09-19T20:27:55.934161Z",
     "iopub.status.idle": "2023-09-19T20:27:55.973727Z",
     "shell.execute_reply": "2023-09-19T20:27:55.972617Z",
     "shell.execute_reply.started": "2023-09-19T20:27:55.934994Z"
    }
   },
   "outputs": [],
   "source": [
    "turnover.info()"
   ]
  },
  {
   "cell_type": "code",
   "execution_count": null,
   "metadata": {
    "execution": {
     "iopub.execute_input": "2023-09-19T20:27:55.977189Z",
     "iopub.status.busy": "2023-09-19T20:27:55.976833Z",
     "iopub.status.idle": "2023-09-19T20:27:56.019423Z",
     "shell.execute_reply": "2023-09-19T20:27:56.018276Z",
     "shell.execute_reply.started": "2023-09-19T20:27:55.977158Z"
    }
   },
   "outputs": [],
   "source": [
    "turnover"
   ]
  },
  {
   "cell_type": "code",
   "execution_count": null,
   "metadata": {
    "execution": {
     "iopub.execute_input": "2023-09-19T20:27:56.021581Z",
     "iopub.status.busy": "2023-09-19T20:27:56.021095Z",
     "iopub.status.idle": "2023-09-19T20:27:56.063235Z",
     "shell.execute_reply": "2023-09-19T20:27:56.062131Z",
     "shell.execute_reply.started": "2023-09-19T20:27:56.021538Z"
    }
   },
   "outputs": [],
   "source": [
    "turnover.describe()"
   ]
  },
  {
   "cell_type": "code",
   "execution_count": null,
   "metadata": {
    "execution": {
     "iopub.execute_input": "2023-09-19T20:27:56.065732Z",
     "iopub.status.busy": "2023-09-19T20:27:56.065022Z",
     "iopub.status.idle": "2023-09-19T20:27:56.076521Z",
     "shell.execute_reply": "2023-09-19T20:27:56.075654Z",
     "shell.execute_reply.started": "2023-09-19T20:27:56.065693Z"
    }
   },
   "outputs": [],
   "source": [
    "turnover.isna().sum()"
   ]
  },
  {
   "cell_type": "code",
   "execution_count": null,
   "metadata": {
    "execution": {
     "iopub.execute_input": "2023-09-19T20:27:56.078626Z",
     "iopub.status.busy": "2023-09-19T20:27:56.078001Z",
     "iopub.status.idle": "2023-09-19T20:27:56.097577Z",
     "shell.execute_reply": "2023-09-19T20:27:56.096616Z",
     "shell.execute_reply.started": "2023-09-19T20:27:56.078596Z"
    }
   },
   "outputs": [],
   "source": [
    "turnover.duplicated().sum()"
   ]
  },
  {
   "cell_type": "code",
   "execution_count": null,
   "metadata": {
    "execution": {
     "iopub.execute_input": "2023-09-19T20:27:56.09969Z",
     "iopub.status.busy": "2023-09-19T20:27:56.099316Z",
     "iopub.status.idle": "2023-09-19T20:27:56.112386Z",
     "shell.execute_reply": "2023-09-19T20:27:56.110638Z",
     "shell.execute_reply.started": "2023-09-19T20:27:56.09966Z"
    }
   },
   "outputs": [],
   "source": [
    "# Remove os valores duplicados\n",
    "turnover = turnover.drop_duplicates()"
   ]
  },
  {
   "cell_type": "code",
   "execution_count": null,
   "metadata": {
    "execution": {
     "iopub.execute_input": "2023-09-19T20:27:56.114748Z",
     "iopub.status.busy": "2023-09-19T20:27:56.114318Z",
     "iopub.status.idle": "2023-09-19T20:27:56.121852Z",
     "shell.execute_reply": "2023-09-19T20:27:56.120684Z",
     "shell.execute_reply.started": "2023-09-19T20:27:56.114713Z"
    }
   },
   "outputs": [],
   "source": [
    "def hist_box_plots(data, col, bins='auto'):\n",
    "    figure, axis = plt.subplots(ncols=2, figsize=(11,3))\n",
    "\n",
    "    sns.histplot(data=data, x=col, ax=axis[0], bins=bins)\n",
    "    sns.boxplot(data=data, x=col, ax=axis[1])"
   ]
  },
  {
   "cell_type": "markdown",
   "metadata": {},
   "source": [
    "# Visualização dos Dados"
   ]
  },
  {
   "cell_type": "code",
   "execution_count": null,
   "metadata": {
    "execution": {
     "iopub.execute_input": "2023-09-19T20:27:56.127616Z",
     "iopub.status.busy": "2023-09-19T20:27:56.126864Z",
     "iopub.status.idle": "2023-09-19T20:27:58.350772Z",
     "shell.execute_reply": "2023-09-19T20:27:58.349537Z",
     "shell.execute_reply.started": "2023-09-19T20:27:56.127579Z"
    }
   },
   "outputs": [],
   "source": [
    "figure, axis = plt.subplots(ncols=3, nrows=3, figsize=(20,10))\n",
    "plt.subplots_adjust(hspace = 0.4, wspace=0.4)\n",
    "\n",
    "g = sns.countplot(data=turnover, x='event', ax=axis[0, 0], order = turnover['event'].value_counts().index)\n",
    "g.title.set_text('Event')\n",
    "g.set(xlabel='')\n",
    "g.set(ylabel='')\n",
    "\n",
    "g = sns.countplot(data=turnover, x='gender', ax=axis[0, 1], order = turnover['gender'].value_counts().index)\n",
    "g.title.set_text('Gender')\n",
    "g.set(xlabel='')\n",
    "g.set(ylabel='')\n",
    "\n",
    "g = sns.countplot(data=turnover, y='industry', ax=axis[0, 2],order = turnover['industry'].value_counts().index)\n",
    "g.title.set_text('Industry')\n",
    "g.set(xlabel='')\n",
    "g.set(ylabel='')\n",
    "\n",
    "g = sns.countplot(data=turnover, y='profession', ax=axis[1, 0], order = turnover['profession'].value_counts().index)\n",
    "g.title.set_text('Profession')\n",
    "g.set(xlabel='')\n",
    "g.set(ylabel='')\n",
    "\n",
    "g = sns.countplot(data=turnover, y='traffic', ax=axis[1, 1], order = turnover['traffic'].value_counts().index)\n",
    "g.title.set_text('Traffic')\n",
    "g.set(xlabel='')\n",
    "g.set(ylabel='')\n",
    "\n",
    "g = sns.countplot(data=turnover, x='coach', ax=axis[1, 2], order = turnover['coach'].value_counts().index)\n",
    "g.title.set_text('Coach')\n",
    "g.set(xlabel='')\n",
    "g.set(ylabel='')\n",
    "\n",
    "g = sns.countplot(data=turnover, x='head_gender', ax=axis[2, 0], order = turnover['head_gender'].value_counts().index)\n",
    "g.title.set_text('Head Gender')\n",
    "g.set(xlabel='')\n",
    "g.set(ylabel='')\n",
    "\n",
    "g = sns.countplot(data=turnover, x='greywage', ax=axis[2, 1], order = turnover['greywage'].value_counts().index)\n",
    "g.title.set_text('Greywage')\n",
    "g.set(xlabel='')\n",
    "g.set(ylabel='')\n",
    "\n",
    "g = sns.countplot(data=turnover, x='way', ax=axis[2, 2], order = turnover['way'].value_counts().index)\n",
    "g.title.set_text('Way')\n",
    "g.set(xlabel='')\n",
    "g.set(ylabel='')\n",
    "\n",
    "plt.show()"
   ]
  },
  {
   "cell_type": "code",
   "execution_count": null,
   "metadata": {
    "execution": {
     "iopub.execute_input": "2023-09-19T20:27:58.352943Z",
     "iopub.status.busy": "2023-09-19T20:27:58.352505Z",
     "iopub.status.idle": "2023-09-19T20:28:03.197779Z",
     "shell.execute_reply": "2023-09-19T20:28:03.196793Z",
     "shell.execute_reply.started": "2023-09-19T20:27:58.352903Z"
    }
   },
   "outputs": [],
   "source": [
    "for col in ['stag', 'age', 'extraversion', 'independ', 'selfcontrol', 'anxiety', 'novator']:\n",
    "    hist_box_plots(turnover, col)"
   ]
  },
  {
   "cell_type": "code",
   "execution_count": null,
   "metadata": {
    "execution": {
     "iopub.execute_input": "2023-09-19T20:28:03.199301Z",
     "iopub.status.busy": "2023-09-19T20:28:03.198949Z",
     "iopub.status.idle": "2023-09-19T20:28:04.765832Z",
     "shell.execute_reply": "2023-09-19T20:28:04.764812Z",
     "shell.execute_reply.started": "2023-09-19T20:28:03.199263Z"
    }
   },
   "outputs": [],
   "source": [
    "figure, axis = plt.subplots(ncols=2, nrows=3, figsize=(20,10))\n",
    "plt.subplots_adjust(hspace = 0.4, wspace=0.4)\n",
    "\n",
    "g = sns.countplot(data=turnover, x='gender', hue='event', ax=axis[0, 0], order = turnover['gender'].value_counts().index)\n",
    "g.title.set_text('Gender')\n",
    "g.set(xlabel='')\n",
    "g.set(ylabel='')\n",
    "\n",
    "g = sns.countplot(data=turnover, x='coach', hue='event', ax=axis[0, 1], order = turnover['coach'].value_counts().index)\n",
    "g.title.set_text('Coach')\n",
    "g.set(xlabel='')\n",
    "g.set(ylabel='')\n",
    "\n",
    "g = sns.countplot(data=turnover, x='head_gender', hue='event', ax=axis[1, 0], order = turnover['head_gender'].value_counts().index)\n",
    "g.title.set_text('Head Gender')\n",
    "g.set(xlabel='')\n",
    "g.set(ylabel='')\n",
    "\n",
    "g = sns.countplot(data=turnover, x='greywage', hue='event', ax=axis[1, 1], order = turnover['greywage'].value_counts().index)\n",
    "g.title.set_text('Greywage')\n",
    "g.set(xlabel='')\n",
    "g.set(ylabel='')\n",
    "\n",
    "g = sns.countplot(data=turnover, x='way', hue='event', ax=axis[2, 0], order = turnover['way'].value_counts().index)\n",
    "g.title.set_text('Way')\n",
    "g.set(xlabel='')\n",
    "g.set(ylabel='')\n",
    "\n",
    "g = sns.countplot(data=turnover, y='traffic', hue='event', ax=axis[2, 1], order = turnover['traffic'].value_counts().index)\n",
    "g.title.set_text('Traffic')\n",
    "g.set(xlabel='')\n",
    "g.set(ylabel='')\n",
    "\n",
    "plt.show()"
   ]
  },
  {
   "cell_type": "code",
   "execution_count": null,
   "metadata": {
    "execution": {
     "iopub.execute_input": "2023-09-19T20:28:04.767948Z",
     "iopub.status.busy": "2023-09-19T20:28:04.767126Z",
     "iopub.status.idle": "2023-09-19T20:28:05.404953Z",
     "shell.execute_reply": "2023-09-19T20:28:05.404016Z",
     "shell.execute_reply.started": "2023-09-19T20:28:04.767915Z"
    }
   },
   "outputs": [],
   "source": [
    "sns.scatterplot(data=turnover, x='stag', y='age', hue='event');"
   ]
  },
  {
   "cell_type": "code",
   "execution_count": null,
   "metadata": {
    "execution": {
     "iopub.execute_input": "2023-09-19T20:28:05.406914Z",
     "iopub.status.busy": "2023-09-19T20:28:05.406407Z",
     "iopub.status.idle": "2023-09-19T20:28:05.412024Z",
     "shell.execute_reply": "2023-09-19T20:28:05.410874Z",
     "shell.execute_reply.started": "2023-09-19T20:28:05.406883Z"
    }
   },
   "outputs": [],
   "source": [
    "turnover2 = turnover.copy()"
   ]
  },
  {
   "cell_type": "code",
   "execution_count": null,
   "metadata": {
    "execution": {
     "iopub.execute_input": "2023-09-19T20:28:05.4139Z",
     "iopub.status.busy": "2023-09-19T20:28:05.41355Z",
     "iopub.status.idle": "2023-09-19T20:28:05.436946Z",
     "shell.execute_reply": "2023-09-19T20:28:05.435498Z",
     "shell.execute_reply.started": "2023-09-19T20:28:05.413871Z"
    }
   },
   "outputs": [],
   "source": [
    "encoder = LabelEncoder()\n",
    "\n",
    "turnover2['gender'] = encoder.fit_transform(turnover2['gender'])\n",
    "turnover2['industry'] = encoder.fit_transform(turnover2['industry'])\n",
    "turnover2['profession'] = encoder.fit_transform(turnover2['profession'])\n",
    "turnover2['traffic'] = encoder.fit_transform(turnover2['traffic'])\n",
    "turnover2['coach'] = encoder.fit_transform(turnover2['coach'])\n",
    "turnover2['head_gender'] = encoder.fit_transform(turnover2['head_gender'])\n",
    "turnover2['greywage'] = encoder.fit_transform(turnover2['greywage'])\n",
    "turnover2['way'] = encoder.fit_transform(turnover2['way'])"
   ]
  },
  {
   "cell_type": "code",
   "execution_count": null,
   "metadata": {
    "execution": {
     "iopub.execute_input": "2023-09-19T20:28:05.439901Z",
     "iopub.status.busy": "2023-09-19T20:28:05.439117Z",
     "iopub.status.idle": "2023-09-19T20:28:33.349934Z",
     "shell.execute_reply": "2023-09-19T20:28:33.348466Z",
     "shell.execute_reply.started": "2023-09-19T20:28:05.439861Z"
    }
   },
   "outputs": [],
   "source": [
    "sns.pairplot(data=turnover[['stag', 'age', 'extraversion', 'independ', 'selfcontrol', 'anxiety', 'novator', 'event']], hue='event');"
   ]
  },
  {
   "cell_type": "code",
   "execution_count": null,
   "metadata": {
    "execution": {
     "iopub.execute_input": "2023-09-19T20:29:28.673115Z",
     "iopub.status.busy": "2023-09-19T20:29:28.67206Z",
     "iopub.status.idle": "2023-09-19T20:29:30.302307Z",
     "shell.execute_reply": "2023-09-19T20:29:30.300844Z",
     "shell.execute_reply.started": "2023-09-19T20:29:28.673077Z"
    }
   },
   "outputs": [],
   "source": [
    "plt.figure(figsize=(18,7))\n",
    "corr = turnover2.corr()\n",
    "sns.heatmap(corr, vmin=-1, center=0, vmax=1, annot=True);"
   ]
  },
  {
   "cell_type": "markdown",
   "metadata": {},
   "source": [
    "# Pré-processamento"
   ]
  },
  {
   "cell_type": "code",
   "execution_count": null,
   "metadata": {
    "execution": {
     "iopub.execute_input": "2023-09-19T20:28:35.269846Z",
     "iopub.status.busy": "2023-09-19T20:28:35.269128Z",
     "iopub.status.idle": "2023-09-19T20:28:35.279721Z",
     "shell.execute_reply": "2023-09-19T20:28:35.278544Z",
     "shell.execute_reply.started": "2023-09-19T20:28:35.269802Z"
    }
   },
   "outputs": [],
   "source": [
    "turnover3 = turnover2.copy()"
   ]
  },
  {
   "cell_type": "code",
   "execution_count": null,
   "metadata": {
    "execution": {
     "iopub.execute_input": "2023-09-19T20:28:35.282555Z",
     "iopub.status.busy": "2023-09-19T20:28:35.282073Z",
     "iopub.status.idle": "2023-09-19T20:28:35.300053Z",
     "shell.execute_reply": "2023-09-19T20:28:35.298889Z",
     "shell.execute_reply.started": "2023-09-19T20:28:35.28251Z"
    }
   },
   "outputs": [],
   "source": [
    "turnover3 = pd.get_dummies(turnover3, columns=['industry','profession','traffic','coach','head_gender','greywage','way', 'gender'], dtype=int)"
   ]
  },
  {
   "cell_type": "code",
   "execution_count": null,
   "metadata": {
    "execution": {
     "iopub.execute_input": "2023-09-19T20:28:35.302162Z",
     "iopub.status.busy": "2023-09-19T20:28:35.301748Z",
     "iopub.status.idle": "2023-09-19T20:28:35.341267Z",
     "shell.execute_reply": "2023-09-19T20:28:35.339942Z",
     "shell.execute_reply.started": "2023-09-19T20:28:35.302129Z"
    }
   },
   "outputs": [],
   "source": [
    "turnover3"
   ]
  },
  {
   "cell_type": "code",
   "execution_count": null,
   "metadata": {
    "execution": {
     "iopub.execute_input": "2023-09-19T20:28:35.343394Z",
     "iopub.status.busy": "2023-09-19T20:28:35.342949Z",
     "iopub.status.idle": "2023-09-19T20:28:35.350617Z",
     "shell.execute_reply": "2023-09-19T20:28:35.349431Z",
     "shell.execute_reply.started": "2023-09-19T20:28:35.34333Z"
    }
   },
   "outputs": [],
   "source": [
    "X = turnover3.drop('event', axis=1)\n",
    "y = turnover['event']"
   ]
  },
  {
   "cell_type": "code",
   "execution_count": null,
   "metadata": {
    "execution": {
     "iopub.execute_input": "2023-09-19T20:28:35.353766Z",
     "iopub.status.busy": "2023-09-19T20:28:35.352235Z",
     "iopub.status.idle": "2023-09-19T20:28:35.371049Z",
     "shell.execute_reply": "2023-09-19T20:28:35.369919Z",
     "shell.execute_reply.started": "2023-09-19T20:28:35.353725Z"
    }
   },
   "outputs": [],
   "source": [
    "scaler = StandardScaler()\n",
    "# scaler = MinMaxScaler()\n",
    "\n",
    "X = scaler.fit_transform(X)"
   ]
  },
  {
   "cell_type": "code",
   "execution_count": null,
   "metadata": {
    "execution": {
     "iopub.execute_input": "2023-09-19T20:28:35.373251Z",
     "iopub.status.busy": "2023-09-19T20:28:35.372699Z",
     "iopub.status.idle": "2023-09-19T20:28:35.384278Z",
     "shell.execute_reply": "2023-09-19T20:28:35.383377Z",
     "shell.execute_reply.started": "2023-09-19T20:28:35.373218Z"
    }
   },
   "outputs": [],
   "source": [
    "# Separando o conjunto de dados em treino e teste\n",
    "X_train, X_test, y_train, y_test = train_test_split(X, \n",
    "                                                    y,\n",
    "                                                    test_size=0.10,\n",
    "                                                    shuffle=True,\n",
    "                                                    stratify=y,\n",
    "                                                    random_state=42)\n",
    "print('Train shape:', X_train.shape)\n",
    "print('Test shape:', X_test.shape)"
   ]
  },
  {
   "cell_type": "markdown",
   "metadata": {},
   "source": [
    "# Análise Preditiva"
   ]
  },
  {
   "cell_type": "code",
   "execution_count": null,
   "metadata": {
    "execution": {
     "iopub.execute_input": "2023-09-19T20:28:35.386391Z",
     "iopub.status.busy": "2023-09-19T20:28:35.386016Z",
     "iopub.status.idle": "2023-09-19T20:28:35.395009Z",
     "shell.execute_reply": "2023-09-19T20:28:35.393863Z",
     "shell.execute_reply.started": "2023-09-19T20:28:35.386336Z"
    }
   },
   "outputs": [],
   "source": [
    "def evaluate_model(y_pred, y_test):\n",
    "    print(f'Acc: {np.round(metrics.accuracy_score(y_test, y_pred)*100, 2)}%')\n",
    "    print(f'F1: {np.round(metrics.f1_score(y_test, y_pred)*100, 2)}%')\n",
    "    print(f'Recall: {np.round(metrics.recall_score(y_test, y_pred)*100, 2)}%')\n",
    "    print(f'Precision: {np.round(metrics.precision_score(y_test, y_pred)*100, 2)}%')\n",
    "    print('Matriz de Confusão:\\n') \n",
    "    sns.heatmap(metrics.confusion_matrix(y_pred, y_test), annot=True, fmt='g');"
   ]
  },
  {
   "cell_type": "code",
   "execution_count": null,
   "metadata": {
    "execution": {
     "iopub.execute_input": "2023-09-19T20:28:35.397028Z",
     "iopub.status.busy": "2023-09-19T20:28:35.396517Z",
     "iopub.status.idle": "2023-09-19T20:28:35.840132Z",
     "shell.execute_reply": "2023-09-19T20:28:35.838886Z",
     "shell.execute_reply.started": "2023-09-19T20:28:35.396984Z"
    }
   },
   "outputs": [],
   "source": [
    "# Instanciando o modelo\n",
    "model = LogisticRegression()\n",
    "\n",
    "# Treinamento\n",
    "model.fit(X_train, y_train)\n",
    "\n",
    "# Predições\n",
    "y_pred = model.predict(X_test)\n",
    "\n",
    "evaluate_model(y_pred, y_test)"
   ]
  },
  {
   "cell_type": "code",
   "execution_count": null,
   "metadata": {
    "execution": {
     "iopub.execute_input": "2023-09-19T20:28:35.846957Z",
     "iopub.status.busy": "2023-09-19T20:28:35.846622Z",
     "iopub.status.idle": "2023-09-19T20:28:36.240154Z",
     "shell.execute_reply": "2023-09-19T20:28:36.239302Z",
     "shell.execute_reply.started": "2023-09-19T20:28:35.846929Z"
    }
   },
   "outputs": [],
   "source": [
    "# Instanciando o modelo\n",
    "model = SVC(kernel='poly')\n",
    "\n",
    "# Treinamento\n",
    "model.fit(X_train, y_train)\n",
    "\n",
    "# Predições\n",
    "y_pred = model.predict(X_test)\n",
    "\n",
    "evaluate_model(y_pred, y_test)"
   ]
  },
  {
   "cell_type": "code",
   "execution_count": null,
   "metadata": {
    "execution": {
     "iopub.execute_input": "2023-09-19T20:28:36.242263Z",
     "iopub.status.busy": "2023-09-19T20:28:36.241267Z",
     "iopub.status.idle": "2023-09-19T20:28:36.597812Z",
     "shell.execute_reply": "2023-09-19T20:28:36.595336Z",
     "shell.execute_reply.started": "2023-09-19T20:28:36.24223Z"
    }
   },
   "outputs": [],
   "source": [
    "# Instanciando o modelo\n",
    "model = DecisionTreeClassifier(criterion='entropy', class_weight={0:1, 1:3},random_state=42)\n",
    "\n",
    "# Treinamento\n",
    "model.fit(X_train, y_train)\n",
    "\n",
    "# Predições\n",
    "y_pred = model.predict(X_test)\n",
    "\n",
    "evaluate_model(y_pred, y_test)"
   ]
  },
  {
   "cell_type": "code",
   "execution_count": null,
   "metadata": {
    "execution": {
     "iopub.execute_input": "2023-09-19T20:30:31.524195Z",
     "iopub.status.busy": "2023-09-19T20:30:31.523723Z",
     "iopub.status.idle": "2023-09-19T20:30:31.971885Z",
     "shell.execute_reply": "2023-09-19T20:30:31.970445Z",
     "shell.execute_reply.started": "2023-09-19T20:30:31.524159Z"
    }
   },
   "outputs": [],
   "source": [
    "# Instanciando o modelo\n",
    "model = KNeighborsClassifier(n_neighbors=2, weights='distance')\n",
    "\n",
    "# Treinamento\n",
    "model.fit(X_train, y_train)\n",
    "\n",
    "# Predições\n",
    "y_pred = model.predict(X_test)\n",
    "\n",
    "evaluate_model(y_pred, y_test)"
   ]
  },
  {
   "cell_type": "code",
   "execution_count": null,
   "metadata": {
    "execution": {
     "iopub.execute_input": "2023-09-19T20:28:37.016227Z",
     "iopub.status.busy": "2023-09-19T20:28:37.015684Z",
     "iopub.status.idle": "2023-09-19T20:28:37.723162Z",
     "shell.execute_reply": "2023-09-19T20:28:37.722043Z",
     "shell.execute_reply.started": "2023-09-19T20:28:37.016182Z"
    }
   },
   "outputs": [],
   "source": [
    "# Instanciando o modelo\n",
    "model = RandomForestClassifier(\n",
    "    n_estimators=100,\n",
    "    criterion='entropy',\n",
    "    class_weight={0:1, 1:2},\n",
    "#     class_weight='balanced',\n",
    "    random_state=42)\n",
    "\n",
    "# Treinamento\n",
    "model.fit(X_train, y_train)\n",
    "\n",
    "# Predições\n",
    "y_pred = model.predict(X_test)\n",
    "\n",
    "evaluate_model(y_pred, y_test)"
   ]
  },
  {
   "cell_type": "code",
   "execution_count": null,
   "metadata": {
    "execution": {
     "iopub.execute_input": "2023-09-19T20:31:26.37809Z",
     "iopub.status.busy": "2023-09-19T20:31:26.377379Z",
     "iopub.status.idle": "2023-09-19T20:31:27.504308Z",
     "shell.execute_reply": "2023-09-19T20:31:27.503038Z",
     "shell.execute_reply.started": "2023-09-19T20:31:26.378053Z"
    }
   },
   "outputs": [],
   "source": [
    "# Instanciando o modelo\n",
    "model = AdaBoostClassifier(n_estimators=200, \n",
    "                           learning_rate=0.1,\n",
    "                           random_state=42\n",
    "                          )\n",
    "\n",
    "# Treinamento\n",
    "model.fit(X_train, y_train)\n",
    "\n",
    "# Predições\n",
    "y_pred = model.predict(X_test)\n",
    "\n",
    "evaluate_model(y_pred, y_test)"
   ]
  },
  {
   "cell_type": "code",
   "execution_count": null,
   "metadata": {},
   "outputs": [],
   "source": []
  }
 ],
 "metadata": {
  "kernelspec": {
   "display_name": "Python 3 (ipykernel)",
   "language": "python",
   "name": "python3"
  },
  "language_info": {
   "codemirror_mode": {
    "name": "ipython",
    "version": 3
   },
   "file_extension": ".py",
   "mimetype": "text/x-python",
   "name": "python",
   "nbconvert_exporter": "python",
   "pygments_lexer": "ipython3",
   "version": "3.9.7"
  }
 },
 "nbformat": 4,
 "nbformat_minor": 4
}
